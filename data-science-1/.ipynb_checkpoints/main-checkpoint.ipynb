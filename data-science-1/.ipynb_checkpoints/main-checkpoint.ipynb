{
 "cells": [
  {
   "cell_type": "markdown",
   "metadata": {},
   "source": [
    "# Desafio 3\n",
    "\n",
    "Neste desafio, iremos praticar nossos conhecimentos sobre distribuições de probabilidade. Para isso,\n",
    "dividiremos este desafio em duas partes:\n",
    "    \n",
    "1. A primeira parte contará com 3 questões sobre um *data set* artificial com dados de uma amostra normal e\n",
    "    uma binomial.\n",
    "2. A segunda parte será sobre a análise da distribuição de uma variável do _data set_ [Pulsar Star](https://archive.ics.uci.edu/ml/datasets/HTRU2), contendo 2 questões.\n",
    "\n",
    "> Obs.: Por favor, não modifique o nome das funções de resposta."
   ]
  },
  {
   "cell_type": "markdown",
   "metadata": {},
   "source": [
    "## _Setup_ geral"
   ]
  },
  {
   "cell_type": "code",
   "execution_count": 124,
   "metadata": {},
   "outputs": [],
   "source": [
    "import pandas as pd\n",
    "import matplotlib.pyplot as plt\n",
    "import numpy as np\n",
    "import scipy.stats as sct\n",
    "import seaborn as sns\n",
    "from statsmodels.distributions.empirical_distribution import ECDF"
   ]
  },
  {
   "cell_type": "code",
   "execution_count": 125,
   "metadata": {},
   "outputs": [],
   "source": [
    "#%matplotlib inline\n",
    "\n",
    "from IPython.core.pylabtools import figsize\n",
    "\n",
    "\n",
    "figsize(12, 8)\n",
    "\n",
    "sns.set()"
   ]
  },
  {
   "cell_type": "markdown",
   "metadata": {},
   "source": [
    "## Parte 1"
   ]
  },
  {
   "cell_type": "markdown",
   "metadata": {},
   "source": [
    "### _Setup_ da parte 1"
   ]
  },
  {
   "cell_type": "code",
   "execution_count": 126,
   "metadata": {},
   "outputs": [],
   "source": [
    "np.random.seed(42)\n",
    "    \n",
    "dataframe = pd.DataFrame({\"normal\": sct.norm.rvs(20, 4, size=10000),\n",
    "                     \"binomial\": sct.binom.rvs(100, 0.2, size=10000)})"
   ]
  },
  {
   "cell_type": "markdown",
   "metadata": {},
   "source": [
    "## Inicie sua análise a partir da parte 1 a partir daqui"
   ]
  },
  {
   "cell_type": "code",
   "execution_count": 127,
   "metadata": {},
   "outputs": [
    {
     "data": {
      "text/html": [
       "<div>\n",
       "<style scoped>\n",
       "    .dataframe tbody tr th:only-of-type {\n",
       "        vertical-align: middle;\n",
       "    }\n",
       "\n",
       "    .dataframe tbody tr th {\n",
       "        vertical-align: top;\n",
       "    }\n",
       "\n",
       "    .dataframe thead th {\n",
       "        text-align: right;\n",
       "    }\n",
       "</style>\n",
       "<table border=\"1\" class=\"dataframe\">\n",
       "  <thead>\n",
       "    <tr style=\"text-align: right;\">\n",
       "      <th></th>\n",
       "      <th>normal</th>\n",
       "      <th>binomial</th>\n",
       "    </tr>\n",
       "  </thead>\n",
       "  <tbody>\n",
       "    <tr>\n",
       "      <th>0</th>\n",
       "      <td>21.986857</td>\n",
       "      <td>18</td>\n",
       "    </tr>\n",
       "    <tr>\n",
       "      <th>1</th>\n",
       "      <td>19.446943</td>\n",
       "      <td>15</td>\n",
       "    </tr>\n",
       "    <tr>\n",
       "      <th>2</th>\n",
       "      <td>22.590754</td>\n",
       "      <td>14</td>\n",
       "    </tr>\n",
       "    <tr>\n",
       "      <th>3</th>\n",
       "      <td>26.092119</td>\n",
       "      <td>15</td>\n",
       "    </tr>\n",
       "    <tr>\n",
       "      <th>4</th>\n",
       "      <td>19.063387</td>\n",
       "      <td>21</td>\n",
       "    </tr>\n",
       "  </tbody>\n",
       "</table>\n",
       "</div>"
      ],
      "text/plain": [
       "      normal  binomial\n",
       "0  21.986857        18\n",
       "1  19.446943        15\n",
       "2  22.590754        14\n",
       "3  26.092119        15\n",
       "4  19.063387        21"
      ]
     },
     "execution_count": 127,
     "metadata": {},
     "output_type": "execute_result"
    }
   ],
   "source": [
    "# Sua análise da parte 1 começa aqui.\n",
    "dataframe.head()"
   ]
  },
  {
   "cell_type": "code",
   "execution_count": 128,
   "metadata": {},
   "outputs": [],
   "source": [
    "#Respondendo a questão 1\n",
    "def Resultado_1():\n",
    "    q1_norm = dataframe.normal.quantile(0.25)\n",
    "    q2_norm = dataframe.normal.quantile(0.50)\n",
    "    q3_norm = dataframe.normal.quantile(0.75)\n",
    "    q1_binom = dataframe.binomial.quantile(0.25)\n",
    "    q2_binom = dataframe.binomial.quantile(0.50)\n",
    "    q3_binom = dataframe.binomial.quantile(0.75)\n",
    "    difQuartis = (round(q1_norm - q1_binom, 3), round(q2_norm - q2_binom, 3), round(q3_norm - q3_binom, 3))\n",
    "    return difQuartis"
   ]
  },
  {
   "cell_type": "code",
   "execution_count": 182,
   "metadata": {},
   "outputs": [],
   "source": [
    "#Respondendo a questão 2\n",
    "def Resultado_2():\n",
    "    media = dataframe.normal.mean()\n",
    "    std = dataframe.normal.std()\n",
    "    norm = dataframe.normal\n",
    "    low = media - std\n",
    "    up = media + std\n",
    "    result_cdf = ECDF(norm)\n",
    "    result_cdf = result_cdf([low, up])\n",
    "    resp = result_cdf[1] - result_cdf[0]\n",
    "    resp = round(resp, 3)\n",
    "    return resp"
   ]
  },
  {
   "cell_type": "code",
   "execution_count": 184,
   "metadata": {},
   "outputs": [],
   "source": [
    "#Respondendo a questão 3\n",
    "def Resultado_3():\n",
    "    m_norm = dataframe.normal.mean()\n",
    "    m_binom = dataframe.binomial.mean()\n",
    "    v_norm = dataframe.normal.var()\n",
    "    v_binom = dataframe.binomial.var()\n",
    "    difMedVar = (round(m_binom - m_norm, 3), round(v_binom - v_norm, 3))\n",
    "    return difMedVar"
   ]
  },
  {
   "cell_type": "markdown",
   "metadata": {},
   "source": [
    "## Questão 1\n",
    "\n",
    "Qual a diferença entre os quartis (Q1, Q2 e Q3) das variáveis `normal` e `binomial` de `dataframe`? Responda como uma tupla de três elementos arredondados para três casas decimais.\n",
    "\n",
    "Em outra palavras, sejam `q1_norm`, `q2_norm` e `q3_norm` os quantis da variável `normal` e `q1_binom`, `q2_binom` e `q3_binom` os quantis da variável `binom`, qual a diferença `(q1_norm - q1 binom, q2_norm - q2_binom, q3_norm - q3_binom)`?"
   ]
  },
  {
   "cell_type": "code",
   "execution_count": 88,
   "metadata": {},
   "outputs": [],
   "source": [
    "def q1():\n",
    "    # Retorne aqui o resultado da questão 1.\n",
    "    return Resultado_1()"
   ]
  },
  {
   "cell_type": "markdown",
   "metadata": {},
   "source": [
    "Para refletir:\n",
    "\n",
    "* Você esperava valores dessa magnitude?\n",
    "\n",
    "* Você é capaz de explicar como distribuições aparentemente tão diferentes (discreta e contínua, por exemplo) conseguem dar esses valores?"
   ]
  },
  {
   "cell_type": "markdown",
   "metadata": {},
   "source": [
    "## Questão 2\n",
    "\n",
    "Considere o intervalo $[\\bar{x} - s, \\bar{x} + s]$, onde $\\bar{x}$ é a média amostral e $s$ é o desvio padrão. Qual a probabilidade nesse intervalo, calculada pela função de distribuição acumulada empírica (CDF empírica) da variável `normal`? Responda como uma único escalar arredondado para três casas decimais."
   ]
  },
  {
   "cell_type": "code",
   "execution_count": 133,
   "metadata": {},
   "outputs": [],
   "source": [
    "def q2():\n",
    "    # Retorne aqui o resultado da questão 2.\n",
    "    return Resultado_2()\n"
   ]
  },
  {
   "cell_type": "markdown",
   "metadata": {},
   "source": [
    "Para refletir:\n",
    "\n",
    "* Esse valor se aproxima do esperado teórico?\n",
    "* Experimente também para os intervalos $[\\bar{x} - 2s, \\bar{x} + 2s]$ e $[\\bar{x} - 3s, \\bar{x} + 3s]$."
   ]
  },
  {
   "cell_type": "markdown",
   "metadata": {},
   "source": [
    "## Questão 3\n",
    "\n",
    "Qual é a diferença entre as médias e as variâncias das variáveis `binomial` e `normal`? Responda como uma tupla de dois elementos arredondados para três casas decimais.\n",
    "\n",
    "Em outras palavras, sejam `m_binom` e `v_binom` a média e a variância da variável `binomial`, e `m_norm` e `v_norm` a média e a variância da variável `normal`. Quais as diferenças `(m_binom - m_norm, v_binom - v_norm)`?"
   ]
  },
  {
   "cell_type": "code",
   "execution_count": 90,
   "metadata": {},
   "outputs": [],
   "source": [
    "def q3():\n",
    "    # Retorne aqui o resultado da questão 3.\n",
    "    return Resultado_3()"
   ]
  },
  {
   "cell_type": "markdown",
   "metadata": {},
   "source": [
    "Para refletir:\n",
    "\n",
    "* Você esperava valore dessa magnitude?\n",
    "* Qual o efeito de aumentar ou diminuir $n$ (atualmente 100) na distribuição da variável `binomial`?"
   ]
  },
  {
   "cell_type": "markdown",
   "metadata": {},
   "source": [
    "## Parte 2"
   ]
  },
  {
   "cell_type": "markdown",
   "metadata": {},
   "source": [
    "### _Setup_ da parte 2"
   ]
  },
  {
   "cell_type": "code",
   "execution_count": 91,
   "metadata": {},
   "outputs": [],
   "source": [
    "stars = pd.read_csv(\"pulsar_stars.csv\")\n",
    "\n",
    "stars.rename({old_name: new_name\n",
    "              for (old_name, new_name)\n",
    "              in zip(stars.columns,\n",
    "                     [\"mean_profile\", \"sd_profile\", \"kurt_profile\", \"skew_profile\", \"mean_curve\", \"sd_curve\", \"kurt_curve\", \"skew_curve\", \"target\"])\n",
    "             },\n",
    "             axis=1, inplace=True)\n",
    "\n",
    "stars.loc[:, \"target\"] = stars.target.astype(bool)"
   ]
  },
  {
   "cell_type": "markdown",
   "metadata": {},
   "source": [
    "## Inicie sua análise da parte 2 a partir daqui"
   ]
  },
  {
   "cell_type": "code",
   "execution_count": 92,
   "metadata": {},
   "outputs": [
    {
     "data": {
      "text/html": [
       "<div>\n",
       "<style scoped>\n",
       "    .dataframe tbody tr th:only-of-type {\n",
       "        vertical-align: middle;\n",
       "    }\n",
       "\n",
       "    .dataframe tbody tr th {\n",
       "        vertical-align: top;\n",
       "    }\n",
       "\n",
       "    .dataframe thead th {\n",
       "        text-align: right;\n",
       "    }\n",
       "</style>\n",
       "<table border=\"1\" class=\"dataframe\">\n",
       "  <thead>\n",
       "    <tr style=\"text-align: right;\">\n",
       "      <th></th>\n",
       "      <th>mean_profile</th>\n",
       "      <th>sd_profile</th>\n",
       "      <th>kurt_profile</th>\n",
       "      <th>skew_profile</th>\n",
       "      <th>mean_curve</th>\n",
       "      <th>sd_curve</th>\n",
       "      <th>kurt_curve</th>\n",
       "      <th>skew_curve</th>\n",
       "      <th>target</th>\n",
       "    </tr>\n",
       "  </thead>\n",
       "  <tbody>\n",
       "    <tr>\n",
       "      <th>0</th>\n",
       "      <td>102.507812</td>\n",
       "      <td>58.882430</td>\n",
       "      <td>0.465318</td>\n",
       "      <td>-0.515088</td>\n",
       "      <td>1.677258</td>\n",
       "      <td>14.860146</td>\n",
       "      <td>10.576487</td>\n",
       "      <td>127.393580</td>\n",
       "      <td>False</td>\n",
       "    </tr>\n",
       "    <tr>\n",
       "      <th>1</th>\n",
       "      <td>103.015625</td>\n",
       "      <td>39.341649</td>\n",
       "      <td>0.323328</td>\n",
       "      <td>1.051164</td>\n",
       "      <td>3.121237</td>\n",
       "      <td>21.744669</td>\n",
       "      <td>7.735822</td>\n",
       "      <td>63.171909</td>\n",
       "      <td>False</td>\n",
       "    </tr>\n",
       "    <tr>\n",
       "      <th>2</th>\n",
       "      <td>136.750000</td>\n",
       "      <td>57.178449</td>\n",
       "      <td>-0.068415</td>\n",
       "      <td>-0.636238</td>\n",
       "      <td>3.642977</td>\n",
       "      <td>20.959280</td>\n",
       "      <td>6.896499</td>\n",
       "      <td>53.593661</td>\n",
       "      <td>False</td>\n",
       "    </tr>\n",
       "    <tr>\n",
       "      <th>3</th>\n",
       "      <td>88.726562</td>\n",
       "      <td>40.672225</td>\n",
       "      <td>0.600866</td>\n",
       "      <td>1.123492</td>\n",
       "      <td>1.178930</td>\n",
       "      <td>11.468720</td>\n",
       "      <td>14.269573</td>\n",
       "      <td>252.567306</td>\n",
       "      <td>False</td>\n",
       "    </tr>\n",
       "    <tr>\n",
       "      <th>4</th>\n",
       "      <td>93.570312</td>\n",
       "      <td>46.698114</td>\n",
       "      <td>0.531905</td>\n",
       "      <td>0.416721</td>\n",
       "      <td>1.636288</td>\n",
       "      <td>14.545074</td>\n",
       "      <td>10.621748</td>\n",
       "      <td>131.394004</td>\n",
       "      <td>False</td>\n",
       "    </tr>\n",
       "    <tr>\n",
       "      <th>5</th>\n",
       "      <td>119.484375</td>\n",
       "      <td>48.765059</td>\n",
       "      <td>0.031460</td>\n",
       "      <td>-0.112168</td>\n",
       "      <td>0.999164</td>\n",
       "      <td>9.279612</td>\n",
       "      <td>19.206230</td>\n",
       "      <td>479.756567</td>\n",
       "      <td>False</td>\n",
       "    </tr>\n",
       "    <tr>\n",
       "      <th>6</th>\n",
       "      <td>130.382812</td>\n",
       "      <td>39.844056</td>\n",
       "      <td>-0.158323</td>\n",
       "      <td>0.389540</td>\n",
       "      <td>1.220736</td>\n",
       "      <td>14.378941</td>\n",
       "      <td>13.539456</td>\n",
       "      <td>198.236457</td>\n",
       "      <td>False</td>\n",
       "    </tr>\n",
       "    <tr>\n",
       "      <th>7</th>\n",
       "      <td>107.250000</td>\n",
       "      <td>52.627078</td>\n",
       "      <td>0.452688</td>\n",
       "      <td>0.170347</td>\n",
       "      <td>2.331940</td>\n",
       "      <td>14.486853</td>\n",
       "      <td>9.001004</td>\n",
       "      <td>107.972506</td>\n",
       "      <td>False</td>\n",
       "    </tr>\n",
       "    <tr>\n",
       "      <th>8</th>\n",
       "      <td>107.257812</td>\n",
       "      <td>39.496488</td>\n",
       "      <td>0.465882</td>\n",
       "      <td>1.162877</td>\n",
       "      <td>4.079431</td>\n",
       "      <td>24.980418</td>\n",
       "      <td>7.397080</td>\n",
       "      <td>57.784738</td>\n",
       "      <td>False</td>\n",
       "    </tr>\n",
       "    <tr>\n",
       "      <th>9</th>\n",
       "      <td>142.078125</td>\n",
       "      <td>45.288073</td>\n",
       "      <td>-0.320328</td>\n",
       "      <td>0.283953</td>\n",
       "      <td>5.376254</td>\n",
       "      <td>29.009897</td>\n",
       "      <td>6.076266</td>\n",
       "      <td>37.831393</td>\n",
       "      <td>False</td>\n",
       "    </tr>\n",
       "    <tr>\n",
       "      <th>10</th>\n",
       "      <td>133.257812</td>\n",
       "      <td>44.058244</td>\n",
       "      <td>-0.081060</td>\n",
       "      <td>0.115362</td>\n",
       "      <td>1.632107</td>\n",
       "      <td>12.007806</td>\n",
       "      <td>11.972067</td>\n",
       "      <td>195.543448</td>\n",
       "      <td>False</td>\n",
       "    </tr>\n",
       "    <tr>\n",
       "      <th>11</th>\n",
       "      <td>134.960938</td>\n",
       "      <td>49.554327</td>\n",
       "      <td>-0.135304</td>\n",
       "      <td>-0.080470</td>\n",
       "      <td>10.696488</td>\n",
       "      <td>41.342044</td>\n",
       "      <td>3.893934</td>\n",
       "      <td>14.131206</td>\n",
       "      <td>False</td>\n",
       "    </tr>\n",
       "    <tr>\n",
       "      <th>12</th>\n",
       "      <td>117.945312</td>\n",
       "      <td>45.506577</td>\n",
       "      <td>0.325438</td>\n",
       "      <td>0.661459</td>\n",
       "      <td>2.836120</td>\n",
       "      <td>23.118350</td>\n",
       "      <td>8.943212</td>\n",
       "      <td>82.475592</td>\n",
       "      <td>False</td>\n",
       "    </tr>\n",
       "    <tr>\n",
       "      <th>13</th>\n",
       "      <td>138.179688</td>\n",
       "      <td>51.524484</td>\n",
       "      <td>-0.031852</td>\n",
       "      <td>0.046797</td>\n",
       "      <td>6.330268</td>\n",
       "      <td>31.576347</td>\n",
       "      <td>5.155940</td>\n",
       "      <td>26.143310</td>\n",
       "      <td>False</td>\n",
       "    </tr>\n",
       "    <tr>\n",
       "      <th>14</th>\n",
       "      <td>114.367188</td>\n",
       "      <td>51.945716</td>\n",
       "      <td>-0.094499</td>\n",
       "      <td>-0.287984</td>\n",
       "      <td>2.738294</td>\n",
       "      <td>17.191891</td>\n",
       "      <td>9.050612</td>\n",
       "      <td>96.611903</td>\n",
       "      <td>False</td>\n",
       "    </tr>\n",
       "    <tr>\n",
       "      <th>15</th>\n",
       "      <td>109.640625</td>\n",
       "      <td>49.017652</td>\n",
       "      <td>0.137636</td>\n",
       "      <td>-0.256700</td>\n",
       "      <td>1.508361</td>\n",
       "      <td>12.072901</td>\n",
       "      <td>13.367926</td>\n",
       "      <td>223.438419</td>\n",
       "      <td>False</td>\n",
       "    </tr>\n",
       "    <tr>\n",
       "      <th>16</th>\n",
       "      <td>100.851562</td>\n",
       "      <td>51.743522</td>\n",
       "      <td>0.393837</td>\n",
       "      <td>-0.011241</td>\n",
       "      <td>2.841137</td>\n",
       "      <td>21.635778</td>\n",
       "      <td>8.302242</td>\n",
       "      <td>71.584369</td>\n",
       "      <td>False</td>\n",
       "    </tr>\n",
       "    <tr>\n",
       "      <th>17</th>\n",
       "      <td>136.093750</td>\n",
       "      <td>51.691005</td>\n",
       "      <td>-0.045909</td>\n",
       "      <td>-0.271816</td>\n",
       "      <td>9.342809</td>\n",
       "      <td>38.096400</td>\n",
       "      <td>4.345438</td>\n",
       "      <td>18.673649</td>\n",
       "      <td>False</td>\n",
       "    </tr>\n",
       "    <tr>\n",
       "      <th>18</th>\n",
       "      <td>99.367188</td>\n",
       "      <td>41.572202</td>\n",
       "      <td>1.547197</td>\n",
       "      <td>4.154106</td>\n",
       "      <td>27.555184</td>\n",
       "      <td>61.719016</td>\n",
       "      <td>2.208808</td>\n",
       "      <td>3.662680</td>\n",
       "      <td>True</td>\n",
       "    </tr>\n",
       "    <tr>\n",
       "      <th>19</th>\n",
       "      <td>100.890625</td>\n",
       "      <td>51.890394</td>\n",
       "      <td>0.627487</td>\n",
       "      <td>-0.026498</td>\n",
       "      <td>3.883779</td>\n",
       "      <td>23.045267</td>\n",
       "      <td>6.953168</td>\n",
       "      <td>52.279440</td>\n",
       "      <td>False</td>\n",
       "    </tr>\n",
       "  </tbody>\n",
       "</table>\n",
       "</div>"
      ],
      "text/plain": [
       "    mean_profile  sd_profile  kurt_profile  skew_profile  mean_curve  \\\n",
       "0     102.507812   58.882430      0.465318     -0.515088    1.677258   \n",
       "1     103.015625   39.341649      0.323328      1.051164    3.121237   \n",
       "2     136.750000   57.178449     -0.068415     -0.636238    3.642977   \n",
       "3      88.726562   40.672225      0.600866      1.123492    1.178930   \n",
       "4      93.570312   46.698114      0.531905      0.416721    1.636288   \n",
       "5     119.484375   48.765059      0.031460     -0.112168    0.999164   \n",
       "6     130.382812   39.844056     -0.158323      0.389540    1.220736   \n",
       "7     107.250000   52.627078      0.452688      0.170347    2.331940   \n",
       "8     107.257812   39.496488      0.465882      1.162877    4.079431   \n",
       "9     142.078125   45.288073     -0.320328      0.283953    5.376254   \n",
       "10    133.257812   44.058244     -0.081060      0.115362    1.632107   \n",
       "11    134.960938   49.554327     -0.135304     -0.080470   10.696488   \n",
       "12    117.945312   45.506577      0.325438      0.661459    2.836120   \n",
       "13    138.179688   51.524484     -0.031852      0.046797    6.330268   \n",
       "14    114.367188   51.945716     -0.094499     -0.287984    2.738294   \n",
       "15    109.640625   49.017652      0.137636     -0.256700    1.508361   \n",
       "16    100.851562   51.743522      0.393837     -0.011241    2.841137   \n",
       "17    136.093750   51.691005     -0.045909     -0.271816    9.342809   \n",
       "18     99.367188   41.572202      1.547197      4.154106   27.555184   \n",
       "19    100.890625   51.890394      0.627487     -0.026498    3.883779   \n",
       "\n",
       "     sd_curve  kurt_curve  skew_curve  target  \n",
       "0   14.860146   10.576487  127.393580   False  \n",
       "1   21.744669    7.735822   63.171909   False  \n",
       "2   20.959280    6.896499   53.593661   False  \n",
       "3   11.468720   14.269573  252.567306   False  \n",
       "4   14.545074   10.621748  131.394004   False  \n",
       "5    9.279612   19.206230  479.756567   False  \n",
       "6   14.378941   13.539456  198.236457   False  \n",
       "7   14.486853    9.001004  107.972506   False  \n",
       "8   24.980418    7.397080   57.784738   False  \n",
       "9   29.009897    6.076266   37.831393   False  \n",
       "10  12.007806   11.972067  195.543448   False  \n",
       "11  41.342044    3.893934   14.131206   False  \n",
       "12  23.118350    8.943212   82.475592   False  \n",
       "13  31.576347    5.155940   26.143310   False  \n",
       "14  17.191891    9.050612   96.611903   False  \n",
       "15  12.072901   13.367926  223.438419   False  \n",
       "16  21.635778    8.302242   71.584369   False  \n",
       "17  38.096400    4.345438   18.673649   False  \n",
       "18  61.719016    2.208808    3.662680    True  \n",
       "19  23.045267    6.953168   52.279440   False  "
      ]
     },
     "execution_count": 92,
     "metadata": {},
     "output_type": "execute_result"
    }
   ],
   "source": [
    "# Sua análise da parte 2 começa aqui.\n",
    "stars.head(20)"
   ]
  },
  {
   "cell_type": "code",
   "execution_count": 93,
   "metadata": {},
   "outputs": [
    {
     "data": {
      "text/plain": [
       "(17897, 9)"
      ]
     },
     "execution_count": 93,
     "metadata": {},
     "output_type": "execute_result"
    }
   ],
   "source": [
    "stars.shape"
   ]
  },
  {
   "cell_type": "code",
   "execution_count": 94,
   "metadata": {},
   "outputs": [],
   "source": [
    "#Filtrando apenas registros com o valor 0 na coluna target\n",
    "filtro_target = stars.where(stars.target == 0)\n",
    "filtro_target = filtro_target.query('target.notnull()', engine='python')"
   ]
  },
  {
   "cell_type": "code",
   "execution_count": 95,
   "metadata": {},
   "outputs": [],
   "source": [
    "#Padronizando os valores com score z\n",
    "media = filtro_target.mean_profile.mean()\n",
    "std = filtro_target.mean_profile.std()\n",
    "mean_profile = (filtro_target.mean_profile - media) / std"
   ]
  },
  {
   "cell_type": "code",
   "execution_count": 96,
   "metadata": {},
   "outputs": [],
   "source": [
    "filtro_target['false_pulsar_mean_profile_standardized'] = mean_profile"
   ]
  },
  {
   "cell_type": "code",
   "execution_count": 97,
   "metadata": {},
   "outputs": [
    {
     "data": {
      "text/plain": [
       "(16258, 10)"
      ]
     },
     "execution_count": 97,
     "metadata": {},
     "output_type": "execute_result"
    }
   ],
   "source": [
    "filtro_target.shape"
   ]
  },
  {
   "cell_type": "code",
   "execution_count": 189,
   "metadata": {},
   "outputs": [],
   "source": [
    "def Resultado_4():\n",
    "    media = 0\n",
    "    std = 1\n",
    "    q_1 = sct.norm.ppf(0.80, loc=media, scale=std)\n",
    "    q_2 = sct.norm.ppf(0.90, loc=media, scale=std)\n",
    "    q_3 = sct.norm.ppf(0.95, loc=media, scale=std)\n",
    "    media_false_pulsar = filtro_target.false_pulsar_mean_profile_standardized.mean()\n",
    "    std_false_pulsar = filtro_target.false_pulsar_mean_profile_standardized.std()\n",
    "    ecdf = ECDF(filtro_target.false_pulsar_mean_profile_standardized)\n",
    "    resp = (round(ecdf(q_1), 3), round(ecdf(q_2), 3), round(ecdf(q_3), 3))\n",
    "    return resp"
   ]
  },
  {
   "cell_type": "code",
   "execution_count": 193,
   "metadata": {},
   "outputs": [],
   "source": [
    "def Resultado_5(): \n",
    "    q_1 = filtro_target.false_pulsar_mean_profile_standardized.quantile(0.25)\n",
    "    q_2 = filtro_target.false_pulsar_mean_profile_standardized.quantile(0.50)\n",
    "    q_3 = filtro_target.false_pulsar_mean_profile_standardized.quantile(0.75)\n",
    "    ppf_1 = sct.norm.ppf(0.25)\n",
    "    ppf_2 = sct.norm.ppf(0.50)\n",
    "    ppf_3 = sct.norm.ppf(0.75)\n",
    "    resp = (round(q_1 - ppf_1, 3), round(q_2 - ppf_2, 3), round(q_3 - ppf_3, 3))\n",
    "    resp = tuple(resp)\n",
    "    return resp"
   ]
  },
  {
   "cell_type": "markdown",
   "metadata": {},
   "source": [
    "## Questão 4\n",
    "\n",
    "Considerando a variável `mean_profile` de `stars`:\n",
    "\n",
    "1. Filtre apenas os valores de `mean_profile` onde `target == 0` (ou seja, onde a estrela não é um pulsar).\n",
    "2. Padronize a variável `mean_profile` filtrada anteriormente para ter média 0 e variância 1.\n",
    "\n",
    "Chamaremos a variável resultante de `false_pulsar_mean_profile_standardized`.\n",
    "\n",
    "Encontre os quantis teóricos para uma distribuição normal de média 0 e variância 1 para 0.80, 0.90 e 0.95 através da função `norm.ppf()` disponível em `scipy.stats`.\n",
    "\n",
    "Quais as probabilidade associadas a esses quantis utilizando a CDF empírica da variável `false_pulsar_mean_profile_standardized`? Responda como uma tupla de três elementos arredondados para três casas decimais."
   ]
  },
  {
   "cell_type": "code",
   "execution_count": 195,
   "metadata": {},
   "outputs": [],
   "source": [
    "def q4():\n",
    "    # Retorne aqui o resultado da questão 4.\n",
    "    return Resultado_4()"
   ]
  },
  {
   "cell_type": "markdown",
   "metadata": {},
   "source": [
    "Para refletir:\n",
    "\n",
    "* Os valores encontrados fazem sentido?\n",
    "* O que isso pode dizer sobre a distribuição da variável `false_pulsar_mean_profile_standardized`?"
   ]
  },
  {
   "cell_type": "markdown",
   "metadata": {},
   "source": [
    "## Questão 5\n",
    "\n",
    "Qual a diferença entre os quantis Q1, Q2 e Q3 de `false_pulsar_mean_profile_standardized` e os mesmos quantis teóricos de uma distribuição normal de média 0 e variância 1? Responda como uma tupla de três elementos arredondados para três casas decimais."
   ]
  },
  {
   "cell_type": "code",
   "execution_count": 196,
   "metadata": {},
   "outputs": [],
   "source": [
    "def q5():\n",
    "    # Retorne aqui o resultado da questão 5.\n",
    "    return Resultado_5()"
   ]
  },
  {
   "cell_type": "markdown",
   "metadata": {},
   "source": [
    "Para refletir:\n",
    "\n",
    "* Os valores encontrados fazem sentido?\n",
    "* O que isso pode dizer sobre a distribuição da variável `false_pulsar_mean_profile_standardized`?\n",
    "* Curiosidade: alguns testes de hipóteses sobre normalidade dos dados utilizam essa mesma abordagem."
   ]
  }
 ],
 "metadata": {
  "kernelspec": {
   "display_name": "Python 3",
   "language": "python",
   "name": "python3"
  },
  "language_info": {
   "codemirror_mode": {
    "name": "ipython",
    "version": 3
   },
   "file_extension": ".py",
   "mimetype": "text/x-python",
   "name": "python",
   "nbconvert_exporter": "python",
   "pygments_lexer": "ipython3",
   "version": "3.7.3"
  }
 },
 "nbformat": 4,
 "nbformat_minor": 2
}
